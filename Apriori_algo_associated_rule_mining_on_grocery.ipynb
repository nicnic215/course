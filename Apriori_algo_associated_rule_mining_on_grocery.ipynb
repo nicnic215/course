{
 "cells": [
  {
   "cell_type": "code",
   "execution_count": 1,
   "metadata": {},
   "outputs": [],
   "source": [
    "import pandas as pd\n"
   ]
  },
  {
   "cell_type": "code",
   "execution_count": 2,
   "metadata": {},
   "outputs": [
    {
     "data": {
      "text/html": [
       "<div>\n",
       "<style scoped>\n",
       "    .dataframe tbody tr th:only-of-type {\n",
       "        vertical-align: middle;\n",
       "    }\n",
       "\n",
       "    .dataframe tbody tr th {\n",
       "        vertical-align: top;\n",
       "    }\n",
       "\n",
       "    .dataframe thead th {\n",
       "        text-align: right;\n",
       "    }\n",
       "</style>\n",
       "<table border=\"1\" class=\"dataframe\">\n",
       "  <thead>\n",
       "    <tr style=\"text-align: right;\">\n",
       "      <th></th>\n",
       "      <th>0</th>\n",
       "      <th>1</th>\n",
       "      <th>2</th>\n",
       "      <th>3</th>\n",
       "      <th>4</th>\n",
       "    </tr>\n",
       "  </thead>\n",
       "  <tbody>\n",
       "    <tr>\n",
       "      <td>0</td>\n",
       "      <td>insert into goods values (0</td>\n",
       "      <td>'Chocolate'</td>\n",
       "      <td>'Cake'</td>\n",
       "      <td>8.95</td>\n",
       "      <td>'Food');</td>\n",
       "    </tr>\n",
       "    <tr>\n",
       "      <td>1</td>\n",
       "      <td>insert into goods values (1</td>\n",
       "      <td>'Lemon'</td>\n",
       "      <td>'Cake'</td>\n",
       "      <td>8.95</td>\n",
       "      <td>'Food');</td>\n",
       "    </tr>\n",
       "    <tr>\n",
       "      <td>2</td>\n",
       "      <td>insert into goods values (2</td>\n",
       "      <td>'Casino'</td>\n",
       "      <td>'Cake'</td>\n",
       "      <td>15.95</td>\n",
       "      <td>'Food');</td>\n",
       "    </tr>\n",
       "    <tr>\n",
       "      <td>3</td>\n",
       "      <td>insert into goods values (3</td>\n",
       "      <td>'Opera'</td>\n",
       "      <td>'Cake'</td>\n",
       "      <td>15.95</td>\n",
       "      <td>'Food');</td>\n",
       "    </tr>\n",
       "    <tr>\n",
       "      <td>4</td>\n",
       "      <td>insert into goods values (4</td>\n",
       "      <td>'Strawberry'</td>\n",
       "      <td>'Cake'</td>\n",
       "      <td>11.95</td>\n",
       "      <td>'Food');</td>\n",
       "    </tr>\n",
       "  </tbody>\n",
       "</table>\n",
       "</div>"
      ],
      "text/plain": [
       "                             0             1       2      3         4\n",
       "0  insert into goods values (0   'Chocolate'  'Cake'   8.95  'Food');\n",
       "1  insert into goods values (1       'Lemon'  'Cake'   8.95  'Food');\n",
       "2  insert into goods values (2      'Casino'  'Cake'  15.95  'Food');\n",
       "3  insert into goods values (3       'Opera'  'Cake'  15.95  'Food');\n",
       "4  insert into goods values (4  'Strawberry'  'Cake'  11.95  'Food');"
      ]
     },
     "execution_count": 2,
     "metadata": {},
     "output_type": "execute_result"
    }
   ],
   "source": [
    "items = pd.read_csv('./data/EB-build-goods.sql', header=None, skiprows=0)\n",
    "items.head()"
   ]
  },
  {
   "cell_type": "code",
   "execution_count": 3,
   "metadata": {},
   "outputs": [
    {
     "data": {
      "text/html": [
       "<div>\n",
       "<style scoped>\n",
       "    .dataframe tbody tr th:only-of-type {\n",
       "        vertical-align: middle;\n",
       "    }\n",
       "\n",
       "    .dataframe tbody tr th {\n",
       "        vertical-align: top;\n",
       "    }\n",
       "\n",
       "    .dataframe thead th {\n",
       "        text-align: right;\n",
       "    }\n",
       "</style>\n",
       "<table border=\"1\" class=\"dataframe\">\n",
       "  <thead>\n",
       "    <tr style=\"text-align: right;\">\n",
       "      <th></th>\n",
       "      <th>items</th>\n",
       "      <th>desc1</th>\n",
       "      <th>desc2</th>\n",
       "      <th>price</th>\n",
       "      <th>category</th>\n",
       "    </tr>\n",
       "  </thead>\n",
       "  <tbody>\n",
       "    <tr>\n",
       "      <td>0</td>\n",
       "      <td>insert into goods values (0</td>\n",
       "      <td>'Chocolate'</td>\n",
       "      <td>'Cake'</td>\n",
       "      <td>8.95</td>\n",
       "      <td>'Food');</td>\n",
       "    </tr>\n",
       "    <tr>\n",
       "      <td>1</td>\n",
       "      <td>insert into goods values (1</td>\n",
       "      <td>'Lemon'</td>\n",
       "      <td>'Cake'</td>\n",
       "      <td>8.95</td>\n",
       "      <td>'Food');</td>\n",
       "    </tr>\n",
       "    <tr>\n",
       "      <td>2</td>\n",
       "      <td>insert into goods values (2</td>\n",
       "      <td>'Casino'</td>\n",
       "      <td>'Cake'</td>\n",
       "      <td>15.95</td>\n",
       "      <td>'Food');</td>\n",
       "    </tr>\n",
       "    <tr>\n",
       "      <td>3</td>\n",
       "      <td>insert into goods values (3</td>\n",
       "      <td>'Opera'</td>\n",
       "      <td>'Cake'</td>\n",
       "      <td>15.95</td>\n",
       "      <td>'Food');</td>\n",
       "    </tr>\n",
       "    <tr>\n",
       "      <td>4</td>\n",
       "      <td>insert into goods values (4</td>\n",
       "      <td>'Strawberry'</td>\n",
       "      <td>'Cake'</td>\n",
       "      <td>11.95</td>\n",
       "      <td>'Food');</td>\n",
       "    </tr>\n",
       "  </tbody>\n",
       "</table>\n",
       "</div>"
      ],
      "text/plain": [
       "                         items         desc1   desc2  price  category\n",
       "0  insert into goods values (0   'Chocolate'  'Cake'   8.95  'Food');\n",
       "1  insert into goods values (1       'Lemon'  'Cake'   8.95  'Food');\n",
       "2  insert into goods values (2      'Casino'  'Cake'  15.95  'Food');\n",
       "3  insert into goods values (3       'Opera'  'Cake'  15.95  'Food');\n",
       "4  insert into goods values (4  'Strawberry'  'Cake'  11.95  'Food');"
      ]
     },
     "execution_count": 3,
     "metadata": {},
     "output_type": "execute_result"
    }
   ],
   "source": [
    "items.columns = ['items','desc1','desc2','price','category']\n",
    "items.head()"
   ]
  },
  {
   "cell_type": "code",
   "execution_count": 4,
   "metadata": {},
   "outputs": [
    {
     "data": {
      "text/html": [
       "<div>\n",
       "<style scoped>\n",
       "    .dataframe tbody tr th:only-of-type {\n",
       "        vertical-align: middle;\n",
       "    }\n",
       "\n",
       "    .dataframe tbody tr th {\n",
       "        vertical-align: top;\n",
       "    }\n",
       "\n",
       "    .dataframe thead th {\n",
       "        text-align: right;\n",
       "    }\n",
       "</style>\n",
       "<table border=\"1\" class=\"dataframe\">\n",
       "  <thead>\n",
       "    <tr style=\"text-align: right;\">\n",
       "      <th></th>\n",
       "      <th>items</th>\n",
       "      <th>desc1</th>\n",
       "      <th>desc2</th>\n",
       "      <th>price</th>\n",
       "      <th>category</th>\n",
       "    </tr>\n",
       "  </thead>\n",
       "  <tbody>\n",
       "    <tr>\n",
       "      <td>0</td>\n",
       "      <td>0</td>\n",
       "      <td>'Chocolate'</td>\n",
       "      <td>'Cake'</td>\n",
       "      <td>8.95</td>\n",
       "      <td>'Food');</td>\n",
       "    </tr>\n",
       "    <tr>\n",
       "      <td>1</td>\n",
       "      <td>1</td>\n",
       "      <td>'Lemon'</td>\n",
       "      <td>'Cake'</td>\n",
       "      <td>8.95</td>\n",
       "      <td>'Food');</td>\n",
       "    </tr>\n",
       "    <tr>\n",
       "      <td>2</td>\n",
       "      <td>2</td>\n",
       "      <td>'Casino'</td>\n",
       "      <td>'Cake'</td>\n",
       "      <td>15.95</td>\n",
       "      <td>'Food');</td>\n",
       "    </tr>\n",
       "    <tr>\n",
       "      <td>3</td>\n",
       "      <td>3</td>\n",
       "      <td>'Opera'</td>\n",
       "      <td>'Cake'</td>\n",
       "      <td>15.95</td>\n",
       "      <td>'Food');</td>\n",
       "    </tr>\n",
       "    <tr>\n",
       "      <td>4</td>\n",
       "      <td>4</td>\n",
       "      <td>'Strawberry'</td>\n",
       "      <td>'Cake'</td>\n",
       "      <td>11.95</td>\n",
       "      <td>'Food');</td>\n",
       "    </tr>\n",
       "  </tbody>\n",
       "</table>\n",
       "</div>"
      ],
      "text/plain": [
       "  items         desc1   desc2  price  category\n",
       "0     0   'Chocolate'  'Cake'   8.95  'Food');\n",
       "1     1       'Lemon'  'Cake'   8.95  'Food');\n",
       "2     2      'Casino'  'Cake'  15.95  'Food');\n",
       "3     3       'Opera'  'Cake'  15.95  'Food');\n",
       "4     4  'Strawberry'  'Cake'  11.95  'Food');"
      ]
     },
     "execution_count": 4,
     "metadata": {},
     "output_type": "execute_result"
    }
   ],
   "source": [
    "items['items'] = items['items'].apply(lambda x: x.split(\"(\")[1])\n",
    "items.head()"
   ]
  },
  {
   "cell_type": "code",
   "execution_count": 5,
   "metadata": {},
   "outputs": [
    {
     "data": {
      "text/html": [
       "<div>\n",
       "<style scoped>\n",
       "    .dataframe tbody tr th:only-of-type {\n",
       "        vertical-align: middle;\n",
       "    }\n",
       "\n",
       "    .dataframe tbody tr th {\n",
       "        vertical-align: top;\n",
       "    }\n",
       "\n",
       "    .dataframe thead th {\n",
       "        text-align: right;\n",
       "    }\n",
       "</style>\n",
       "<table border=\"1\" class=\"dataframe\">\n",
       "  <thead>\n",
       "    <tr style=\"text-align: right;\">\n",
       "      <th></th>\n",
       "      <th>tid</th>\n",
       "    </tr>\n",
       "  </thead>\n",
       "  <tbody>\n",
       "    <tr>\n",
       "      <td>0</td>\n",
       "      <td>1, 11, 21</td>\n",
       "    </tr>\n",
       "    <tr>\n",
       "      <td>1</td>\n",
       "      <td>2, 7, 11, 37, 45</td>\n",
       "    </tr>\n",
       "    <tr>\n",
       "      <td>2</td>\n",
       "      <td>3, 3, 33, 42</td>\n",
       "    </tr>\n",
       "    <tr>\n",
       "      <td>3</td>\n",
       "      <td>4, 5, 12, 17, 47</td>\n",
       "    </tr>\n",
       "    <tr>\n",
       "      <td>4</td>\n",
       "      <td>5, 6, 18, 42</td>\n",
       "    </tr>\n",
       "  </tbody>\n",
       "</table>\n",
       "</div>"
      ],
      "text/plain": [
       "                tid\n",
       "0         1, 11, 21\n",
       "1  2, 7, 11, 37, 45\n",
       "2      3, 3, 33, 42\n",
       "3  4, 5, 12, 17, 47\n",
       "4      5, 6, 18, 42"
      ]
     },
     "execution_count": 5,
     "metadata": {},
     "output_type": "execute_result"
    }
   ],
   "source": [
    "transactions = pd.read_csv(\"./data/75000-out1.csv\", header=None, sep='\\n')\n",
    "transactions.columns=['tid']\n",
    "transactions.head()"
   ]
  },
  {
   "cell_type": "code",
   "execution_count": 6,
   "metadata": {},
   "outputs": [],
   "source": [
    "totalitems = items.count()\n",
    "totaltransactions=transactions.count()"
   ]
  },
  {
   "cell_type": "code",
   "execution_count": 7,
   "metadata": {},
   "outputs": [
    {
     "data": {
      "text/plain": [
       "tid    75000\n",
       "dtype: int64"
      ]
     },
     "execution_count": 7,
     "metadata": {},
     "output_type": "execute_result"
    }
   ],
   "source": [
    "totaltransactions"
   ]
  },
  {
   "cell_type": "code",
   "execution_count": 8,
   "metadata": {},
   "outputs": [
    {
     "data": {
      "text/plain": [
       "items       50\n",
       "desc1       50\n",
       "desc2       50\n",
       "price       50\n",
       "category    50\n",
       "dtype: int64"
      ]
     },
     "execution_count": 8,
     "metadata": {},
     "output_type": "execute_result"
    }
   ],
   "source": [
    "totalitems"
   ]
  },
  {
   "cell_type": "code",
   "execution_count": 9,
   "metadata": {},
   "outputs": [],
   "source": [
    "def support(itemset):\n",
    "    totaltransactions = transactions.count()\n",
    "    \n",
    "    support = 0\n",
    "    for t in transactions ['tid']:\n",
    "        t = list(t.split(', ')[1:])\n",
    "        flag = True;\n",
    "        \n",
    "        for i in itemset:\n",
    "            if i not in t:\n",
    "                flag = False;\n",
    "                break;\n",
    "        if (flag):\n",
    "            support +=1 \n",
    "    return float(support/totaltransactions)"
   ]
  },
  {
   "cell_type": "code",
   "execution_count": 10,
   "metadata": {},
   "outputs": [
    {
     "name": "stdout",
     "output_type": "stream",
     "text": [
      "0.04204\n"
     ]
    }
   ],
   "source": [
    "print(support([str(10)]))"
   ]
  },
  {
   "cell_type": "code",
   "execution_count": 11,
   "metadata": {},
   "outputs": [
    {
     "name": "stdout",
     "output_type": "stream",
     "text": [
      "['0', '1', '2', '3', '4', '5', '6', '7', '8', '9', '10', '11', '12', '13', '14', '15', '16', '17', '18', '19', '20', '21', '22', '23', '24', '25', '26', '27', '28', '29', '30', '31', '32', '33', '34', '35', '36', '37', '38', '39', '40', '41', '42', '43', '44', '45', '46', '47', '48', '49']\n"
     ]
    }
   ],
   "source": [
    "minsupport = 0.01\n",
    "minconfidence = 0.5\n",
    "items['items']\n",
    "\n",
    "itemset = []\n",
    "for i in items['items']:\n",
    "    if support([str(i)]) >= minsupport:\n",
    "        itemset.append(i)\n",
    "\n",
    "print(itemset)"
   ]
  },
  {
   "cell_type": "code",
   "execution_count": 12,
   "metadata": {},
   "outputs": [],
   "source": [
    "def generaterules(itemset):\n",
    "    minconfidence = 0.5\n",
    "    rules =[]\n",
    "    \n",
    "    for i in itemset:\n",
    "        A = i\n",
    "        B = [i for i in itemset if i!=A]\n",
    "        confidence = support(B)/support(A)\n",
    "        \n",
    "        if confidence > minconfidence:\n",
    "            rules.append([A,B])\n",
    "    \n",
    "    print(rules)\n",
    "    return rules"
   ]
  },
  {
   "cell_type": "code",
   "execution_count": 13,
   "metadata": {},
   "outputs": [
    {
     "name": "stdout",
     "output_type": "stream",
     "text": [
      "[['3', ['2']], ['2', ['3']]]\n"
     ]
    },
    {
     "data": {
      "text/plain": [
       "[['3', ['2']], ['2', ['3']]]"
      ]
     },
     "execution_count": 13,
     "metadata": {},
     "output_type": "execute_result"
    }
   ],
   "source": [
    "generaterules (['3','2'])"
   ]
  },
  {
   "cell_type": "code",
   "execution_count": 14,
   "metadata": {},
   "outputs": [],
   "source": [
    "import itertools"
   ]
  },
  {
   "cell_type": "code",
   "execution_count": 17,
   "metadata": {},
   "outputs": [],
   "source": [
    "def apriori(i,LItems):\n",
    "    newLItems = []\n",
    "    ruleset =[]\n",
    "    \n",
    "    for Citemset in itertools.combinations(LItems, i):\n",
    "        Citemset = list(Citemset)\n",
    "        \n",
    "        if support(Citemset)>minsupport:\n",
    "            newLItems.append(Citemset)\n",
    "            ruleSset = ruleset.append(generaterules(Citemset))\n",
    "            \n",
    "    return ruleset, newLItems"
   ]
  },
  {
   "cell_type": "code",
   "execution_count": 18,
   "metadata": {},
   "outputs": [
    {
     "name": "stdout",
     "output_type": "stream",
     "text": [
      "[['0', ['2']], ['2', ['0']]]\n",
      "[['0', ['46']], ['46', ['0']]]\n",
      "[['1', ['19']], ['19', ['1']]]\n",
      "[['2', ['46']], ['46', ['2']]]\n",
      "[['3', ['18']], ['18', ['3']]]\n",
      "[['3', ['35']], ['35', ['3']]]\n",
      "[['4', ['9']], ['9', ['4']]]\n",
      "[['5', ['22']], ['22', ['5']]]\n",
      "[['7', ['11']], ['11', ['7']]]\n",
      "[['7', ['15']], ['15', ['7']]]\n",
      "[['7', ['37']], ['37', ['7']]]\n",
      "[['7', ['45']], ['45', ['7']]]\n",
      "[['7', ['49']], ['49', ['7']]]\n",
      "[['11', ['37']], ['37', ['11']]]\n",
      "[['11', ['45']], ['45', ['11']]]\n",
      "[['12', ['31']], ['31', ['12']]]\n",
      "[['12', ['36']], ['36', ['12']]]\n",
      "[['12', ['48']], ['48', ['12']]]\n",
      "[['14', ['44']], ['44', ['14']]]\n",
      "[['15', ['49']], ['49', ['15']]]\n",
      "[['16', ['32']], ['32', ['16']]]\n",
      "[['16', ['45']], ['45', ['16']]]\n",
      "[['17', ['29']], ['29', ['17']]]\n",
      "[['17', ['47']], ['47', ['17']]]\n",
      "[['18', ['35']], ['35', ['18']]]\n",
      "[['23', ['24']], ['24', ['23']]]\n",
      "[['23', ['40']], ['40', ['23']]]\n",
      "[['23', ['41']], ['41', ['23']]]\n",
      "[['23', ['43']], ['43', ['23']]]\n",
      "[['24', ['40']], ['40', ['24']]]\n",
      "[['24', ['41']], ['41', ['24']]]\n",
      "[['24', ['43']], ['43', ['24']]]\n",
      "[['27', ['28']], ['28', ['27']]]\n",
      "[['29', ['47']], ['47', ['29']]]\n",
      "[['31', ['36']], ['36', ['31']]]\n",
      "[['31', ['48']], ['48', ['31']]]\n",
      "[['32', ['45']], ['45', ['32']]]\n",
      "[['33', ['42']], ['42', ['33']]]\n",
      "[['36', ['48']], ['48', ['36']]]\n",
      "[['37', ['45']], ['45', ['37']]]\n",
      "[['40', ['41']], ['41', ['40']]]\n",
      "[['40', ['43']], ['43', ['40']]]\n",
      "[['41', ['43']], ['43', ['41']]]\n"
     ]
    }
   ],
   "source": [
    "rules, items = apriori(2,itemset)"
   ]
  },
  {
   "cell_type": "code",
   "execution_count": 20,
   "metadata": {},
   "outputs": [
    {
     "name": "stdout",
     "output_type": "stream",
     "text": [
      "[[['0', ['2']], ['2', ['0']]], [['0', ['46']], ['46', ['0']]], [['1', ['19']], ['19', ['1']]], [['2', ['46']], ['46', ['2']]], [['3', ['18']], ['18', ['3']]], [['3', ['35']], ['35', ['3']]], [['4', ['9']], ['9', ['4']]], [['5', ['22']], ['22', ['5']]], [['7', ['11']], ['11', ['7']]], [['7', ['15']], ['15', ['7']]], [['7', ['37']], ['37', ['7']]], [['7', ['45']], ['45', ['7']]], [['7', ['49']], ['49', ['7']]], [['11', ['37']], ['37', ['11']]], [['11', ['45']], ['45', ['11']]], [['12', ['31']], ['31', ['12']]], [['12', ['36']], ['36', ['12']]], [['12', ['48']], ['48', ['12']]], [['14', ['44']], ['44', ['14']]], [['15', ['49']], ['49', ['15']]], [['16', ['32']], ['32', ['16']]], [['16', ['45']], ['45', ['16']]], [['17', ['29']], ['29', ['17']]], [['17', ['47']], ['47', ['17']]], [['18', ['35']], ['35', ['18']]], [['23', ['24']], ['24', ['23']]], [['23', ['40']], ['40', ['23']]], [['23', ['41']], ['41', ['23']]], [['23', ['43']], ['43', ['23']]], [['24', ['40']], ['40', ['24']]], [['24', ['41']], ['41', ['24']]], [['24', ['43']], ['43', ['24']]], [['27', ['28']], ['28', ['27']]], [['29', ['47']], ['47', ['29']]], [['31', ['36']], ['36', ['31']]], [['31', ['48']], ['48', ['31']]], [['32', ['45']], ['45', ['32']]], [['33', ['42']], ['42', ['33']]], [['36', ['48']], ['48', ['36']]], [['37', ['45']], ['45', ['37']]], [['40', ['41']], ['41', ['40']]], [['40', ['43']], ['43', ['40']]], [['41', ['43']], ['43', ['41']]]]\n"
     ]
    }
   ],
   "source": [
    "print(rules)"
   ]
  },
  {
   "cell_type": "code",
   "execution_count": 23,
   "metadata": {},
   "outputs": [
    {
     "name": "stdout",
     "output_type": "stream",
     "text": [
      "[['0', '2'], ['0', '46'], ['1', '19'], ['2', '46'], ['3', '18'], ['3', '35'], ['4', '9'], ['5', '22'], ['7', '11'], ['7', '15'], ['7', '37'], ['7', '45'], ['7', '49'], ['11', '37'], ['11', '45'], ['12', '31'], ['12', '36'], ['12', '48'], ['14', '44'], ['15', '49'], ['16', '32'], ['16', '45'], ['17', '29'], ['17', '47'], ['18', '35'], ['23', '24'], ['23', '40'], ['23', '41'], ['23', '43'], ['24', '40'], ['24', '41'], ['24', '43'], ['27', '28'], ['29', '47'], ['31', '36'], ['31', '48'], ['32', '45'], ['33', '42'], ['36', '48'], ['37', '45'], ['40', '41'], ['40', '43'], ['41', '43']]\n"
     ]
    }
   ],
   "source": [
    "print(items)"
   ]
  },
  {
   "cell_type": "code",
   "execution_count": null,
   "metadata": {},
   "outputs": [],
   "source": []
  }
 ],
 "metadata": {
  "kernelspec": {
   "display_name": "Python 3",
   "language": "python",
   "name": "python3"
  },
  "language_info": {
   "codemirror_mode": {
    "name": "ipython",
    "version": 3
   },
   "file_extension": ".py",
   "mimetype": "text/x-python",
   "name": "python",
   "nbconvert_exporter": "python",
   "pygments_lexer": "ipython3",
   "version": "3.7.4"
  }
 },
 "nbformat": 4,
 "nbformat_minor": 2
}
