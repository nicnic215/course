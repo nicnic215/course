{
 "cells": [
  {
   "cell_type": "code",
   "execution_count": 12,
   "metadata": {},
   "outputs": [],
   "source": [
    "import keras\n",
    "from keras.models import Sequential\n",
    "from keras.layers import Dense, Dropout, Flatten\n",
    "from keras.layers import Conv2D, MaxPooling2D\n",
    "from keras import backend as K\n",
    "from pathlib import Path\n",
    "from keras.preprocessing import image\n",
    "import numpy as np\n",
    "from PIL import Image "
   ]
  },
  {
   "cell_type": "code",
   "execution_count": 13,
   "metadata": {},
   "outputs": [],
   "source": [
    "num_classes = 2"
   ]
  },
  {
   "cell_type": "code",
   "execution_count": 14,
   "metadata": {},
   "outputs": [],
   "source": [
    "batch_size = 128\n",
    "epochs = 24\n",
    "input_shape = (64,64,3)"
   ]
  },
  {
   "cell_type": "code",
   "execution_count": 15,
   "metadata": {},
   "outputs": [],
   "source": [
    "img_rows, img_cols = 64, 64"
   ]
  },
  {
   "cell_type": "code",
   "execution_count": 16,
   "metadata": {},
   "outputs": [],
   "source": [
    "dog_path = Path(\"training_data\") / \"dogs\"\n",
    "not_dog_path = Path(\"training_data\") / \"not_dogs\"\n",
    "\n",
    "images = []\n",
    "labels = []"
   ]
  },
  {
   "cell_type": "code",
   "execution_count": 17,
   "metadata": {},
   "outputs": [],
   "source": [
    "for img in not_dog_path.glob(\"*.png\"):\n",
    "   \n",
    "    img = image.load_img(img)\n",
    "    image_array = image.img_to_array(img)\n",
    "    images.append(image_array)\n",
    "    labels.append(0)"
   ]
  },
  {
   "cell_type": "code",
   "execution_count": 18,
   "metadata": {},
   "outputs": [],
   "source": [
    "for img in dog_path.glob(\"*.png\"):\n",
    "  \n",
    "    img = image.load_img(img)\n",
    "    image_array = image.img_to_array(img)\n",
    "    images.append(image_array)\n",
    "    labels.append(1)"
   ]
  },
  {
   "cell_type": "code",
   "execution_count": 19,
   "metadata": {},
   "outputs": [],
   "source": [
    "x_data = np.array(images)\n",
    "\n",
    "y_data = np.array(labels)"
   ]
  },
  {
   "cell_type": "code",
   "execution_count": 20,
   "metadata": {},
   "outputs": [
    {
     "data": {
      "text/plain": [
       "(58, 64, 64, 3)"
      ]
     },
     "execution_count": 20,
     "metadata": {},
     "output_type": "execute_result"
    }
   ],
   "source": [
    "x_data.shape"
   ]
  },
  {
   "cell_type": "code",
   "execution_count": 21,
   "metadata": {},
   "outputs": [],
   "source": [
    "x_train = x_data[0:50,:,:,:]\n",
    "x_test = x_data[50:,:,:,:]\n",
    "\n",
    "y_train = y_data[0:50]\n",
    "y_test = y_data[50:]\n"
   ]
  },
  {
   "cell_type": "code",
   "execution_count": 22,
   "metadata": {},
   "outputs": [
    {
     "data": {
      "text/plain": [
       "(8, 64, 64, 3)"
      ]
     },
     "execution_count": 22,
     "metadata": {},
     "output_type": "execute_result"
    }
   ],
   "source": [
    "x_test.shape"
   ]
  },
  {
   "cell_type": "code",
   "execution_count": 23,
   "metadata": {},
   "outputs": [
    {
     "data": {
      "text/plain": [
       "50"
      ]
     },
     "execution_count": 23,
     "metadata": {},
     "output_type": "execute_result"
    }
   ],
   "source": [
    "len(y_train)"
   ]
  },
  {
   "cell_type": "code",
   "execution_count": 24,
   "metadata": {},
   "outputs": [
    {
     "data": {
      "text/plain": [
       "array([0, 0, 0, 0, 0, 0, 0, 0, 0, 0, 0, 0, 0, 0, 0, 0, 0, 0, 0, 0, 0, 0,\n",
       "       0, 0, 0, 0, 0, 0, 0, 0, 0, 0, 1, 1, 1, 1, 1, 1, 1, 1, 1, 1, 1, 1,\n",
       "       1, 1, 1, 1, 1, 1])"
      ]
     },
     "execution_count": 24,
     "metadata": {},
     "output_type": "execute_result"
    }
   ],
   "source": [
    "y_train"
   ]
  },
  {
   "cell_type": "code",
   "execution_count": 25,
   "metadata": {},
   "outputs": [
    {
     "name": "stdout",
     "output_type": "stream",
     "text": [
      "x_train shape: (50, 64, 64, 3)\n",
      "x_test shape: (8, 64, 64, 3)\n",
      "[0 0 0]\n"
     ]
    }
   ],
   "source": [
    "x_train = x_train.astype('float32')\n",
    "x_test = x_test.astype('float32')\n",
    "x_train /= 255\n",
    "x_test /= 255\n",
    "print('x_train shape:', x_train.shape)\n",
    "print('x_test shape:', x_test.shape)\n",
    "print(y_train[0:3])\n",
    "\n"
   ]
  },
  {
   "cell_type": "code",
   "execution_count": 26,
   "metadata": {},
   "outputs": [
    {
     "name": "stdout",
     "output_type": "stream",
     "text": [
      "[[1. 0.]]\n"
     ]
    }
   ],
   "source": [
    "y_train = keras.utils.to_categorical(y_train, num_classes)\n",
    "y_test = keras.utils.to_categorical(y_test, num_classes)\n",
    "print(y_train[0:1])"
   ]
  },
  {
   "cell_type": "code",
   "execution_count": 27,
   "metadata": {},
   "outputs": [
    {
     "name": "stdout",
     "output_type": "stream",
     "text": [
      "WARNING:tensorflow:From /anaconda3/envs/FTDS/lib/python3.7/site-packages/keras/backend/tensorflow_backend.py:66: The name tf.get_default_graph is deprecated. Please use tf.compat.v1.get_default_graph instead.\n",
      "\n"
     ]
    }
   ],
   "source": [
    "model = Sequential()"
   ]
  },
  {
   "cell_type": "code",
   "execution_count": 28,
   "metadata": {},
   "outputs": [
    {
     "name": "stdout",
     "output_type": "stream",
     "text": [
      "WARNING:tensorflow:From /anaconda3/envs/FTDS/lib/python3.7/site-packages/keras/backend/tensorflow_backend.py:541: The name tf.placeholder is deprecated. Please use tf.compat.v1.placeholder instead.\n",
      "\n",
      "WARNING:tensorflow:From /anaconda3/envs/FTDS/lib/python3.7/site-packages/keras/backend/tensorflow_backend.py:4432: The name tf.random_uniform is deprecated. Please use tf.random.uniform instead.\n",
      "\n",
      "WARNING:tensorflow:From /anaconda3/envs/FTDS/lib/python3.7/site-packages/keras/backend/tensorflow_backend.py:4267: The name tf.nn.max_pool is deprecated. Please use tf.nn.max_pool2d instead.\n",
      "\n",
      "WARNING:tensorflow:From /anaconda3/envs/FTDS/lib/python3.7/site-packages/keras/backend/tensorflow_backend.py:148: The name tf.placeholder_with_default is deprecated. Please use tf.compat.v1.placeholder_with_default instead.\n",
      "\n",
      "WARNING:tensorflow:From /anaconda3/envs/FTDS/lib/python3.7/site-packages/keras/backend/tensorflow_backend.py:3733: calling dropout (from tensorflow.python.ops.nn_ops) with keep_prob is deprecated and will be removed in a future version.\n",
      "Instructions for updating:\n",
      "Please use `rate` instead of `keep_prob`. Rate should be set to `rate = 1 - keep_prob`.\n"
     ]
    }
   ],
   "source": [
    "\n",
    "model.add(Conv2D(32, kernel_size=(3, 3),\n",
    "                  activation='relu',\n",
    "                  input_shape=input_shape))\n",
    "model.add(MaxPooling2D(pool_size=(2, 2)))\n",
    "model.add(Conv2D(32, kernel_size=(3, 3), activation='relu'))\n",
    "model.add(MaxPooling2D(pool_size=(2, 2)))\n",
    "model.add(Flatten())\n",
    "model.add(Dense(128, activation='relu'))\n",
    "model.add(Dropout(0.5))\n",
    "model.add(Dense(num_classes, activation='softmax'))"
   ]
  },
  {
   "cell_type": "code",
   "execution_count": 29,
   "metadata": {},
   "outputs": [
    {
     "name": "stdout",
     "output_type": "stream",
     "text": [
      "WARNING:tensorflow:From /anaconda3/envs/FTDS/lib/python3.7/site-packages/keras/optimizers.py:793: The name tf.train.Optimizer is deprecated. Please use tf.compat.v1.train.Optimizer instead.\n",
      "\n",
      "WARNING:tensorflow:From /anaconda3/envs/FTDS/lib/python3.7/site-packages/keras/backend/tensorflow_backend.py:3657: The name tf.log is deprecated. Please use tf.math.log instead.\n",
      "\n",
      "WARNING:tensorflow:From /anaconda3/envs/FTDS/lib/python3.7/site-packages/tensorflow/python/ops/nn_impl.py:180: add_dispatch_support.<locals>.wrapper (from tensorflow.python.ops.array_ops) is deprecated and will be removed in a future version.\n",
      "Instructions for updating:\n",
      "Use tf.where in 2.0, which has the same broadcast rule as np.where\n",
      "Train on 50 samples, validate on 8 samples\n",
      "Epoch 1/24\n",
      "50/50 [==============================] - 1s 12ms/step - loss: 0.7540 - acc: 0.4000 - val_loss: 3.7882 - val_acc: 0.0000e+00\n",
      "Epoch 2/24\n",
      "50/50 [==============================] - 0s 3ms/step - loss: 1.3472 - acc: 0.6400 - val_loss: 1.7294 - val_acc: 0.0000e+00\n",
      "Epoch 3/24\n",
      "50/50 [==============================] - 0s 4ms/step - loss: 0.7483 - acc: 0.6400 - val_loss: 0.8271 - val_acc: 0.0000e+00\n",
      "Epoch 4/24\n",
      "50/50 [==============================] - 0s 4ms/step - loss: 0.6544 - acc: 0.6000 - val_loss: 0.6330 - val_acc: 1.0000\n",
      "Epoch 5/24\n",
      "50/50 [==============================] - 0s 3ms/step - loss: 0.7303 - acc: 0.4600 - val_loss: 0.6252 - val_acc: 1.0000\n",
      "Epoch 6/24\n",
      "50/50 [==============================] - 0s 3ms/step - loss: 0.7425 - acc: 0.4400 - val_loss: 0.6882 - val_acc: 0.6250\n",
      "Epoch 7/24\n",
      "50/50 [==============================] - 0s 3ms/step - loss: 0.6833 - acc: 0.6000 - val_loss: 0.8003 - val_acc: 0.0000e+00\n",
      "Epoch 8/24\n",
      "50/50 [==============================] - 0s 3ms/step - loss: 0.6282 - acc: 0.6800 - val_loss: 1.0060 - val_acc: 0.0000e+00\n",
      "Epoch 9/24\n",
      "50/50 [==============================] - 0s 3ms/step - loss: 0.6085 - acc: 0.6400 - val_loss: 1.2553 - val_acc: 0.0000e+00\n",
      "Epoch 10/24\n",
      "50/50 [==============================] - 0s 3ms/step - loss: 0.6194 - acc: 0.6400 - val_loss: 1.2980 - val_acc: 0.0000e+00\n",
      "Epoch 11/24\n",
      "50/50 [==============================] - 0s 3ms/step - loss: 0.6139 - acc: 0.6400 - val_loss: 1.1986 - val_acc: 0.0000e+00\n",
      "Epoch 12/24\n",
      "50/50 [==============================] - 0s 3ms/step - loss: 0.5893 - acc: 0.6400 - val_loss: 1.0653 - val_acc: 0.0000e+00\n",
      "Epoch 13/24\n",
      "50/50 [==============================] - 0s 3ms/step - loss: 0.5637 - acc: 0.6400 - val_loss: 0.9747 - val_acc: 0.0000e+00\n",
      "Epoch 14/24\n",
      "50/50 [==============================] - 0s 3ms/step - loss: 0.5608 - acc: 0.6400 - val_loss: 0.9512 - val_acc: 0.0000e+00\n",
      "Epoch 15/24\n",
      "50/50 [==============================] - 0s 4ms/step - loss: 0.5321 - acc: 0.6400 - val_loss: 1.0124 - val_acc: 0.0000e+00\n",
      "Epoch 16/24\n",
      "50/50 [==============================] - 0s 3ms/step - loss: 0.5246 - acc: 0.6400 - val_loss: 0.9812 - val_acc: 0.0000e+00\n",
      "Epoch 17/24\n",
      "50/50 [==============================] - 0s 4ms/step - loss: 0.4995 - acc: 0.6400 - val_loss: 0.9417 - val_acc: 0.0000e+00\n",
      "Epoch 18/24\n",
      "50/50 [==============================] - 0s 3ms/step - loss: 0.4810 - acc: 0.6200 - val_loss: 0.9762 - val_acc: 0.0000e+00\n",
      "Epoch 19/24\n",
      "50/50 [==============================] - 0s 3ms/step - loss: 0.4661 - acc: 0.6600 - val_loss: 0.9987 - val_acc: 0.0000e+00\n",
      "Epoch 20/24\n",
      "50/50 [==============================] - 0s 4ms/step - loss: 0.4491 - acc: 0.6800 - val_loss: 0.9811 - val_acc: 0.0000e+00\n",
      "Epoch 21/24\n",
      "50/50 [==============================] - 0s 4ms/step - loss: 0.4089 - acc: 0.8000 - val_loss: 1.0644 - val_acc: 0.0000e+00\n",
      "Epoch 22/24\n",
      "50/50 [==============================] - 0s 3ms/step - loss: 0.4009 - acc: 0.6800 - val_loss: 1.0517 - val_acc: 0.1250\n",
      "Epoch 23/24\n",
      "50/50 [==============================] - 0s 4ms/step - loss: 0.3665 - acc: 0.8000 - val_loss: 1.0247 - val_acc: 0.1250\n",
      "Epoch 24/24\n",
      "50/50 [==============================] - 0s 4ms/step - loss: 0.3534 - acc: 0.8800 - val_loss: 1.0144 - val_acc: 0.2500\n"
     ]
    }
   ],
   "source": [
    "model.compile(loss=keras.losses.binary_crossentropy,\n",
    "              optimizer=keras.optimizers.Adam(),\n",
    "              metrics=['accuracy'])\n",
    "\n",
    "hist = model.fit(x_train, y_train,\n",
    "          batch_size=batch_size,\n",
    "          epochs=epochs,\n",
    "          verbose=1,\n",
    "          validation_data=(x_test, y_test))"
   ]
  },
  {
   "cell_type": "code",
   "execution_count": 30,
   "metadata": {},
   "outputs": [
    {
     "name": "stdout",
     "output_type": "stream",
     "text": [
      "Test loss: 1.0144264698028564\n",
      "Test accuracy: 0.25\n"
     ]
    },
    {
     "data": {
      "image/png": "[encoded data removed]",
      "text/plain": [
       "<Figure size 432x288 with 1 Axes>"
      ]
     },
     "metadata": {
      "needs_background": "light"
     },
     "output_type": "display_data"
    }
   ],
   "source": [
    "\n",
    "score = model.evaluate(x_test, y_test, verbose=0)\n",
    "print('Test loss:', score[0])\n",
    "print('Test accuracy:', score[1])\n",
    "\n",
    "\n",
    "import numpy as np\n",
    "import matplotlib.pyplot as plt\n",
    "%matplotlib inline\n",
    "epoch_list = list(range(1, len(hist.history['acc']) + 1))  # values for x axis [1, 2, ..., # of epochs]\n",
    "plt.plot(epoch_list, hist.history['acc'], epoch_list, hist.history['val_acc'])\n",
    "plt.legend(('Training Accuracy', 'Validation Accuracy'))\n",
    "plt.show()"
   ]
  },
  {
   "cell_type": "code",
   "execution_count": 20,
   "metadata": {},
   "outputs": [
    {
     "name": "stdout",
     "output_type": "stream",
     "text": [
      "Model: \"sequential_1\"\n",
      "_________________________________________________________________\n",
      "Layer (type)                 Output Shape              Param #   \n",
      "=================================================================\n",
      "conv2d_1 (Conv2D)            (None, 62, 62, 32)        896       \n",
      "_________________________________________________________________\n",
      "max_pooling2d_1 (MaxPooling2 (None, 31, 31, 32)        0         \n",
      "_________________________________________________________________\n",
      "conv2d_2 (Conv2D)            (None, 29, 29, 32)        9248      \n",
      "_________________________________________________________________\n",
      "max_pooling2d_2 (MaxPooling2 (None, 14, 14, 32)        0         \n",
      "_________________________________________________________________\n",
      "flatten_1 (Flatten)          (None, 6272)              0         \n",
      "_________________________________________________________________\n",
      "dense_1 (Dense)              (None, 128)               802944    \n",
      "_________________________________________________________________\n",
      "dropout_1 (Dropout)          (None, 128)               0         \n",
      "_________________________________________________________________\n",
      "dense_2 (Dense)              (None, 2)                 258       \n",
      "=================================================================\n",
      "Total params: 813,346\n",
      "Trainable params: 813,346\n",
      "Non-trainable params: 0\n",
      "_________________________________________________________________\n"
     ]
    }
   ],
   "source": [
    "model.summary()"
   ]
  },
  {
   "cell_type": "code",
   "execution_count": 21,
   "metadata": {},
   "outputs": [],
   "source": [
    "from pathlib import Path\n",
    "model_structure = model.to_json()\n",
    "f = Path(\"cnn_mnist_model_structure.json\")\n",
    "f.write_text(model_structure)\n",
    "\n",
    "\n",
    "model.save_weights(\"cnn_mnist_model_weights.h5\")"
   ]
  },
  {
   "cell_type": "code",
   "execution_count": null,
   "metadata": {},
   "outputs": [],
   "source": []
  }
 ],
 "metadata": {
  "kernelspec": {
   "display_name": "Python 3",
   "language": "python",
   "name": "python3"
  },
  "language_info": {
   "codemirror_mode": {
    "name": "ipython",
    "version": 3
   },
   "file_extension": ".py",
   "mimetype": "text/x-python",
   "name": "python",
   "nbconvert_exporter": "python",
   "pygments_lexer": "ipython3",
   "version": "3.7.4"
  }
 },
 "nbformat": 4,
 "nbformat_minor": 2
}
